{
 "cells": [
  {
   "cell_type": "code",
   "execution_count": null,
   "metadata": {},
   "outputs": [],
   "source": [
    "%%javascript\n",
    "const listenerChannel = new BroadcastChannel('channel');\n",
    "listenerChannel.onmessage = (msg) => {\n",
    "  const div = document.createElement('div');\n",
    "  div.innerHTML = msg.data;\n",
    "  document.body.appendChild(div);\n",
    "};"
   ]
  }
 ],
 "metadata": {
  "kernelspec": {
   "name": "javascript",
   "display_name": "JavaScript"
  },
  "language_info": {
   "name": "javascript"
  }
 },
 "nbformat": 4,
 "nbformat_minor": 2
}
